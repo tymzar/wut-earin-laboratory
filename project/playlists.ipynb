{
 "cells": [
  {
   "cell_type": "code",
   "execution_count": 14,
   "metadata": {},
   "outputs": [],
   "source": [
    "import pandas as pd\n",
    "import playlists\n",
    "import clustering\n",
    "import dataset_utils\n",
    "import joblib\n",
    "\n",
    "from difflib import SequenceMatcher"
   ]
  },
  {
   "cell_type": "code",
   "execution_count": 15,
   "metadata": {},
   "outputs": [],
   "source": [
    "playlists_dataset = playlists.load_dataset()"
   ]
  },
  {
   "cell_type": "code",
   "execution_count": 16,
   "metadata": {},
   "outputs": [],
   "source": [
    "# rename columns - user_id\t\"artistname\"\t\"trackname\"\t\"playlistname\"\n",
    "playlists_dataset.rename(\n",
    "    columns={\n",
    "        \"user_id\": \"user_id\",\n",
    "        ' \"artistname\"': \"artist\",\n",
    "        ' \"trackname\"': \"track\",\n",
    "        ' \"playlistname\"': \"playlistname\",\n",
    "    },\n",
    "    inplace=True,\n",
    ")"
   ]
  },
  {
   "cell_type": "code",
   "execution_count": 17,
   "metadata": {},
   "outputs": [
    {
     "data": {
      "text/plain": [
       "Index(['user_id', 'artist', 'track', 'playlistname'], dtype='object')"
      ]
     },
     "execution_count": 17,
     "metadata": {},
     "output_type": "execute_result"
    }
   ],
   "source": [
    "playlists_dataset.columns"
   ]
  },
  {
   "cell_type": "code",
   "execution_count": 18,
   "metadata": {},
   "outputs": [
    {
     "name": "stderr",
     "output_type": "stream",
     "text": [
      "/Users/tzarski/Documents/Development/cs_studies/wut-earin-laboratory/project/dataset_utils.py:16: DtypeWarning: Columns (16) have mixed types. Specify dtype option on import or set low_memory=False.\n",
      "  df = pd.read_csv(\"datasets/10-m-tracks/bp_track.csv\")\n"
     ]
    }
   ],
   "source": [
    "\n",
    "song_features = clustering.load_dataset()\n",
    "df_tract_details = dataset_utils.load_track_details()\n",
    "\n",
    "df_artist_release_keys = dataset_utils.load_artist_release()\n",
    "df_artist_details = dataset_utils.load_artist_details()"
   ]
  },
  {
   "cell_type": "code",
   "execution_count": 19,
   "metadata": {},
   "outputs": [
    {
     "name": "stdout",
     "output_type": "stream",
     "text": [
      "<class 'pandas.core.frame.DataFrame'>\n",
      "RangeIndex: 46824672 entries, 0 to 46824671\n",
      "Data columns (total 36 columns):\n",
      " #   Column            Dtype  \n",
      "---  ------            -----  \n",
      " 0   isrc              object \n",
      " 1   acousticness      float64\n",
      " 2   danceability      float64\n",
      " 3   duration_ms_x     int64  \n",
      " 4   energy            float64\n",
      " 5   instrumentalness  float64\n",
      " 6   key               int64  \n",
      " 7   liveness          float64\n",
      " 8   loudness          float64\n",
      " 9   mode              int64  \n",
      " 10  speechiness       float64\n",
      " 11  tempo             int64  \n",
      " 12  time_signature    int64  \n",
      " 13  valence           float64\n",
      " 14  updated_on_x_x    object \n",
      " 15  track_id          int64  \n",
      " 16  title             object \n",
      " 17  mix               object \n",
      " 18  is_remixed        object \n",
      " 19  release_date      object \n",
      " 20  genre_id          int64  \n",
      " 21  subgenre_id       float64\n",
      " 22  track_url         object \n",
      " 23  bpm               int64  \n",
      " 24  duration          object \n",
      " 25  duration_ms_y     float64\n",
      " 26  key_id            float64\n",
      " 27  label_id          int64  \n",
      " 28  release_id        int64  \n",
      " 29  updated_on_y_x    object \n",
      " 30  is_matched_spot   object \n",
      " 31  artist_id         int64  \n",
      " 32  updated_on_x_y    object \n",
      " 33  artist_name       object \n",
      " 34  artist_url        object \n",
      " 35  updated_on_y_y    object \n",
      "dtypes: float64(11), int64(11), object(14)\n",
      "memory usage: 12.6+ GB\n"
     ]
    }
   ],
   "source": [
    "# remove duplicates columns after merge\n",
    "song_features = pd.merge(song_features, df_tract_details, on=\"isrc\", how=\"inner\")\n",
    "\n",
    "song_features = song_features.drop_duplicates(subset=[\"isrc\"])\n",
    "\n",
    "df_release_artist_names = pd.merge(\n",
    "    df_artist_release_keys, df_artist_details, on=\"artist_id\", how=\"inner\"\n",
    ")\n",
    "\n",
    "\n",
    "song_features = pd.merge(\n",
    "    song_features, df_release_artist_names, on=\"release_id\", how=\"inner\"\n",
    ")\n",
    "\n",
    "song_features.info()\n",
    "\n",
    "del df_tract_details\n",
    "del df_artist_release_keys\n",
    "del df_artist_details\n",
    "del df_release_artist_names"
   ]
  },
  {
   "cell_type": "code",
   "execution_count": 20,
   "metadata": {},
   "outputs": [],
   "source": [
    "unique_song_names = playlists_dataset[\"track\"].unique()\n",
    "\n",
    "dataset_playlist_traks = song_features[song_features[\"title\"].isin(unique_song_names)]\n",
    "\n"
   ]
  },
  {
   "cell_type": "code",
   "execution_count": 21,
   "metadata": {},
   "outputs": [
    {
     "name": "stdout",
     "output_type": "stream",
     "text": [
      "unique_song_names 238117\n"
     ]
    },
    {
     "name": "stderr",
     "output_type": "stream",
     "text": [
      "/var/folders/90/czs0nv0d30x0yxcfw1f2b1m00000gn/T/ipykernel_45344/3598854012.py:5: SettingWithCopyWarning: \n",
      "A value is trying to be set on a copy of a slice from a DataFrame.\n",
      "Try using .loc[row_indexer,col_indexer] = value instead\n",
      "\n",
      "See the caveats in the documentation: https://pandas.pydata.org/pandas-docs/stable/user_guide/indexing.html#returning-a-view-versus-a-copy\n",
      "  dataset_playlist_traks[\"track_id\"] = dataset_playlist_traks[\"title\"].apply(\n"
     ]
    }
   ],
   "source": [
    "unique_song_names = dataset_playlist_traks[\"title\"].unique()\n",
    "print(\"unique_song_names\", len(unique_song_names))\n",
    "\n",
    "# add is as a hash of the track name\n",
    "dataset_playlist_traks[\"track_id\"] = dataset_playlist_traks[\"title\"].apply(\n",
    "    lambda x: hash(x)\n",
    ")\n",
    "\n",
    "# filter out songs that are not in unique_song_names\n",
    "\n",
    "dataset_playlist_traks = dataset_playlist_traks[\n",
    "    dataset_playlist_traks[\"title\"].isin(unique_song_names)\n",
    "]\n",
    "\n"
   ]
  },
  {
   "cell_type": "code",
   "execution_count": 22,
   "metadata": {},
   "outputs": [],
   "source": [
    "# reorder playlist dataset, remove user_id column, reformat dataset, take only unique songs and create playlists columns that will contain all sthe playlists that contain the song\n",
    "playlist_dataset_refined = playlists_dataset.drop(columns=[\"user_id\"])\n",
    "\n",
    "# aggregate the songs but keep the playlists names in a list\n",
    "playlist_dataset_refined = playlist_dataset_refined.groupby([\"artist\", \"track\"]).agg(\n",
    "    {\"playlistname\": list}\n",
    ")\n",
    "\n",
    "playlist_dataset_refined.reset_index(inplace=True)\n",
    "\n",
    "playlist_dataset_refined[\"playlistname\"] = playlist_dataset_refined[\"playlistname\"].apply(\n",
    "    lambda x: list(set(x))\n",
    ")\n",
    "\n",
    "# make an id of hash of the track name\n",
    "playlist_dataset_refined[\"track_id\"] = playlist_dataset_refined[\"track\"].apply(\n",
    "    lambda x: hash(x)\n",
    ")\n",
    "\n",
    "# merge the two datasets\n",
    "\n",
    "\n"
   ]
  },
  {
   "cell_type": "code",
   "execution_count": 23,
   "metadata": {},
   "outputs": [],
   "source": [
    "del song_features\n",
    "del playlists_dataset\n",
    "\n",
    "playlist_dataset_refined.drop_duplicates(subset=[\"track_id\"], inplace=True)\n",
    "dataset_playlist_traks.drop_duplicates(subset=[\"track_id\"], inplace=True)\n",
    "\n"
   ]
  },
  {
   "cell_type": "code",
   "execution_count": 26,
   "metadata": {},
   "outputs": [],
   "source": [
    "dataset_playlist_tracks = pd.merge(\n",
    "    playlist_dataset_refined, dataset_playlist_traks, on=\"track_id\", how=\"left\"\n",
    ")\n",
    "\n",
    "\n",
    "dataset_playlist_tracks_columns = dataset_playlist_tracks.columns\n",
    "feature_columns = [\n",
    "    \"artist\",\n",
    "    \"track\",\n",
    "    \"playlistname\",\n",
    "    \"isrc\",\n",
    "    \"acousticness\",\n",
    "    \"danceability\",\n",
    "    \"energy\",\n",
    "    \"instrumentalness\",\n",
    "    \"key\",\n",
    "    \"liveness\",\n",
    "    \"loudness\",\n",
    "    \"mode\",\n",
    "    \"speechiness\",\n",
    "    \"tempo\",\n",
    "    \"valence\",\n",
    "    \"title\",\n",
    "    \"mix\",\n",
    "    \"is_remixed\",\n",
    "    \"release_date\",\n",
    "    \"genre_id\",\n",
    "    \"subgenre_id\",\n",
    "    \"track_url\",\n",
    "    \"bpm\",\n",
    "    \"duration\",\n",
    "    \"key_id\",\n",
    "    \"release_id\",\n",
    "    \"artist_name\",\n",
    "]\n",
    "\n",
    "\n",
    "final_dataset = dataset_playlist_tracks[feature_columns]"
   ]
  },
  {
   "cell_type": "code",
   "execution_count": 27,
   "metadata": {},
   "outputs": [
    {
     "data": {
      "text/plain": [
       "Index(['artist', 'track', 'playlistname', 'isrc', 'acousticness',\n",
       "       'danceability', 'energy', 'instrumentalness', 'key', 'liveness',\n",
       "       'loudness', 'mode', 'speechiness', 'tempo', 'valence', 'title', 'mix',\n",
       "       'is_remixed', 'release_date', 'genre_id', 'subgenre_id', 'track_url',\n",
       "       'bpm', 'duration', 'key_id', 'release_id', 'artist_name'],\n",
       "      dtype='object')"
      ]
     },
     "execution_count": 27,
     "metadata": {},
     "output_type": "execute_result"
    }
   ],
   "source": [
    "joblib.dump(final_dataset, \"playlist_dataset\")"
   ]
  }
 ],
 "metadata": {
  "kernelspec": {
   "display_name": "env",
   "language": "python",
   "name": "python3"
  },
  "language_info": {
   "codemirror_mode": {
    "name": "ipython",
    "version": 3
   },
   "file_extension": ".py",
   "mimetype": "text/x-python",
   "name": "python",
   "nbconvert_exporter": "python",
   "pygments_lexer": "ipython3",
   "version": "3.11.9"
  }
 },
 "nbformat": 4,
 "nbformat_minor": 2
}
